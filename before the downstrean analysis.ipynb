{
 "cells": [
  {
   "cell_type": "code",
   "execution_count": 3,
   "metadata": {},
   "outputs": [],
   "source": [
    "import pandas as pd"
   ]
  },
  {
   "cell_type": "code",
   "execution_count": 4,
   "metadata": {},
   "outputs": [],
   "source": [
    "now_dir = r\"D:\\dataset\\R downstream analysis\\before the downstrean analysis\"\n",
    "csv = now_dir + '\\\\' + \"out_msstats.csv\"    \n",
    "data = pd.read_csv(csv)\n",
    "#data = data.head(100)    \n",
    "condition = data['Condition']\n",
    "sample = data['BioReplicate']\n",
    "\n",
    "count_condition = condition.unique()   # count unique Condition names\n",
    "count_sample = sample.unique()         # count unique Sample names"
   ]
  },
  {
   "cell_type": "code",
   "execution_count": 5,
   "metadata": {},
   "outputs": [
    {
     "name": "stdout",
     "output_type": "stream",
     "text": [
      "   PeptidesNumber  ProteinsNumber   Condition\n",
      "0             118             118  50000 amol\n",
      "1              94              94  12500 amol\n",
      "2              45              45   2500 amol\n",
      "3              65              65   5000 amol\n",
      "4             104             104  25000 amol\n",
      "5              46              46    250 amol\n",
      "6              41              41    500 amol\n",
      "7              41              41     50 amol\n",
      "8              45              45    125 amol\n"
     ]
    }
   ],
   "source": [
    "# Count the Number of proteins and protein per condition\n",
    "\n",
    "count_con_pro = []  # Store each condition corresponding to an unduplicated protein name\n",
    "count_con_pep = []  # Store each condition corresponding to an unduplicated peptide name\n",
    "for i in count_condition:\n",
    "    tmp = data[data[\"Condition\"] == i]\n",
    "    count_con_pro.append(tmp['ProteinName'].unique())\n",
    "    count_con_pep.append(tmp['PeptideSequence'].unique())\n",
    "\n",
    "num_con_pro = []   # Store each condition corresponding to an unduplicated protein number\n",
    "num_con_pep = []   # Store each condition corresponding to an unduplicated peptide number\n",
    "for i in range(0, len(count_con_pro)):\n",
    "    num_con_pro.append(len(count_con_pro[i]))\n",
    "    num_con_pep.append(len(count_con_pro[i]))\n",
    "\n",
    "\n",
    "result = pd.DataFrame({\n",
    "    \"PeptidesNumber\": num_con_pro,\n",
    "    \"ProteinsNumber\": num_con_pep,\n",
    "    \"Condition\": count_condition})\n",
    "# result.to_csv(r\"condition_result.csv\", index = None)\n",
    "\n",
    "print(result)"
   ]
  },
  {
   "cell_type": "code",
   "execution_count": 6,
   "metadata": {},
   "outputs": [
    {
     "name": "stdout",
     "output_type": "stream",
     "text": [
      "    PeptidesNumber  ProteinsNumber  Sample\n",
      "0              108             108      17\n",
      "1               99              99      18\n",
      "2               74              74       1\n",
      "3               34              34      10\n",
      "4               39              39      11\n",
      "5               38              38      12\n",
      "6              112             112      16\n",
      "7               52              52      19\n",
      "8               72              72       2\n",
      "9               55              55      20\n",
      "10              61              61      21\n",
      "11              89              89       3\n",
      "12              93              93       7\n",
      "13              82              82       8\n",
      "14              94              94       9\n",
      "15              34              34      13\n",
      "16              39              39      14\n",
      "17              39              39      15\n",
      "18              36              36      23\n",
      "19              32              32      24\n",
      "20              31              31      25\n",
      "21              31              31      26\n",
      "22              35              35      27\n",
      "23              38              38       4\n",
      "24              32              32       5\n",
      "25              37              37       6\n",
      "26              35              35      22\n"
     ]
    }
   ],
   "source": [
    "# Count the Number of proteins and protein per sample\n",
    "count_sam_pro = []  # Store each sample corresponding to an unduplicated protein name\n",
    "count_sam_pep = []  # Store each sample corresponding to an unduplicated peptide name\n",
    "for i in count_sample:\n",
    "    tmp = data[data[\"BioReplicate\"] == i]\n",
    "    count_sam_pro.append(tmp['ProteinName'].unique())\n",
    "    count_sam_pep.append(tmp['PeptideSequence'].unique())\n",
    "\n",
    "num_sam_pro = []   # Store each sample corresponding to an unduplicated protein number\n",
    "num_sam_pep = []   # Store each sample corresponding to an unduplicated peptide number\n",
    "for i in range(0, len(count_sam_pro)):\n",
    "    num_sam_pro.append(len(count_sam_pro[i]))\n",
    "    num_sam_pep.append(len(count_sam_pro[i]))\n",
    "\n",
    "\n",
    "result = pd.DataFrame({\n",
    "    \"PeptidesNumber\": num_sam_pro,\n",
    "    \"ProteinsNumber\": num_sam_pep,\n",
    "    \"Sample\": count_sample})\n",
    "# result.to_csv(r\"sample_result.csv\", index = None)\n",
    "\n",
    "print(result)"
   ]
  },
  {
   "cell_type": "code",
   "execution_count": null,
   "metadata": {},
   "outputs": [],
   "source": []
  }
 ],
 "metadata": {
  "kernelspec": {
   "display_name": "Python 3",
   "language": "python",
   "name": "python3"
  },
  "language_info": {
   "codemirror_mode": {
    "name": "ipython",
    "version": 3
   },
   "file_extension": ".py",
   "mimetype": "text/x-python",
   "name": "python",
   "nbconvert_exporter": "python",
   "pygments_lexer": "ipython3",
   "version": "3.8.3"
  }
 },
 "nbformat": 4,
 "nbformat_minor": 4
}
